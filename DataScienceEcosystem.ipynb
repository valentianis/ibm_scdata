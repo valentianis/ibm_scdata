{
  "metadata": {
    "kernelspec": {
      "name": "python",
      "display_name": "Python (Pyodide)",
      "language": "python"
    },
    "language_info": {
      "codemirror_mode": {
        "name": "python",
        "version": 3
      },
      "file_extension": ".py",
      "mimetype": "text/x-python",
      "name": "python",
      "nbconvert_exporter": "python",
      "pygments_lexer": "ipython3",
      "version": "3.8"
    }
  },
  "nbformat_minor": 4,
  "nbformat": 4,
  "cells": [
    {
      "cell_type": "markdown",
      "source": "# Data Science Tools and Ecosystem",
      "metadata": {}
    },
    {
      "cell_type": "markdown",
      "source": "    In this notebook, Data Science Tools and Ecosystem are summarized",
      "metadata": {}
    },
    {
      "cell_type": "markdown",
      "source": "    Some of the popular languages that Data Scientists use are:\n        1. Python\n        2. R\n        3. SQL\n        4. Java\n        5. Julia",
      "metadata": {}
    },
    {
      "cell_type": "markdown",
      "source": "    Some of the commonly used libraries used by Data Scientists include:\n        1. NumPy\n        2. Pandas\n        3. Matplotlib\n        4. SciPy\n        5. Keras",
      "metadata": {}
    },
    {
      "cell_type": "markdown",
      "source": "| Data Science Tools |\n| ------------------ |\n| Jupyter|\n| RStudio|\n| Zeppelin|",
      "metadata": {}
    },
    {
      "cell_type": "markdown",
      "source": "### Below are a few examples of evaluating arithmetic expressions in Python\n    3+5\n    (10*5)+(25/5)\n    14%3",
      "metadata": {}
    },
    {
      "cell_type": "code",
      "source": "# This is a simple arithmetic expressions to multiply then add integers\n(3*4)+5",
      "metadata": {
        "trusted": true
      },
      "outputs": [
        {
          "execution_count": 1,
          "output_type": "execute_result",
          "data": {
            "text/plain": "17"
          },
          "metadata": {}
        }
      ],
      "execution_count": 1
    },
    {
      "cell_type": "code",
      "source": "# This will convert 200 minutes to hours by dividing by 60\n \nminutes_input=200\n# Calculate the number of full hours\nhours = minutes_input // 60\n# Calculate the remaining minutes\nremaining_minutes = minutes_input % 60\n\nprint(f\"{minutes_input} minutes is equivalent to {hours} and {remaining_minutes} minutes\")\n",
      "metadata": {
        "trusted": true
      },
      "outputs": [
        {
          "name": "stdout",
          "text": "200 minutes is equivalent to 3 and 20 minutes\n",
          "output_type": "stream"
        }
      ],
      "execution_count": 5
    },
    {
      "cell_type": "markdown",
      "source": "**Objectives**\n* List popular languages for Data Science\n* List commonly used libraries in Data Science\n* List open source development environment used in Data Science\n* Create code cells to multiply and add numbers and to convert minutes to hours",
      "metadata": {}
    },
    {
      "cell_type": "markdown",
      "source": "## AUTHOR\n    Monserrate Lorente",
      "metadata": {}
    }
  ]
}
